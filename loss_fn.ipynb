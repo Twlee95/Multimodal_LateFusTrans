{
 "cells": [
  {
   "cell_type": "code",
   "execution_count": 1,
   "id": "cd152cf4-c000-4d63-a42c-080e78774325",
   "metadata": {},
   "outputs": [],
   "source": [
    "import import_ipynb\n",
    "import torch\n",
    "import torch.nn as nn\n",
    "\n",
    "\n",
    "def Selective_Regularization(y_hat, target, wp, bp):\n",
    "    loss_fn = nn.BCELoss()\n",
    "    return loss_fn(y_hat, target) + (torch.norm(wp,p='fro')+torch.norm(bp))"
   ]
  }
 ],
 "metadata": {
  "interpreter": {
   "hash": "2982973059bb32b2c180859bcc6f8f2be9d4decc2aea8640d27e050b49ac75fb"
  },
  "kernelspec": {
   "display_name": "py38_64",
   "language": "python",
   "name": "python3"
  },
  "language_info": {
   "codemirror_mode": {
    "name": "ipython",
    "version": 3
   },
   "file_extension": ".py",
   "mimetype": "text/x-python",
   "name": "python",
   "nbconvert_exporter": "python",
   "pygments_lexer": "ipython3",
   "version": "3.9.7"
  }
 },
 "nbformat": 4,
 "nbformat_minor": 5
}
